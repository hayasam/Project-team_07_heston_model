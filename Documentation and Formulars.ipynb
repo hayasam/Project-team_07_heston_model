{
 "cells": [
  {
   "cell_type": "code",
   "execution_count": 1,
   "metadata": {
    "collapsed": true
   },
   "outputs": [],
   "source": [
    "Documenntation/Manual\n",
    "Theory, Formulars, SDEs, Strengths and Weaknesses"
   ]
  },
  {
   "cell_type": "code",
   "execution_count": null,
   "metadata": {
    "collapsed": true
   },
   "outputs": [],
   "source": [
    "Theoretical Background\n",
    "BSM assumptions are not representative of real world eg. BSM assumes deterministic constant volatility\n",
    "The need to model vol as a stochastic quantity emerged\n",
    "Heston (1993) proposed a model where volatility follows a random process\n",
    "\n",
    "Stochastic vol process proposed by Heston \n",
    "(1) dS_t=r*S_tdt + sqrt(V_t)*S_t*dW1_t\n",
    "(2) dV_t= a*(V_bar-V_t)dt+volvol*sqrt(V_t)*dW2_t\n",
    "(3) dW1_t*dW2_t=pdt\n",
    "\n",
    "S_t =   price of the underlying asset at time _t\n",
    "r =     risk free rate\n",
    "V_t =   the volatility at time _t\n",
    "V_bar=  long term volatility\n",
    "a =     volatility mean-reversion speed\n",
    "volvol= the volatility of the volatility process\n",
    "dW1_t,dW2_t = two correlated Weiner processes, with correlation coefficient p\n",
    "\n",
    "Pros of Heston Model\n",
    "- models vol as a stochastic process (more representative of the real world)\n",
    "- assumes mean reverting Cox-Ingersoll-Ross (CIR) process \n",
    "- introduces correlated shocks between asset returns and volatility\n",
    "- versatility, (can change parameters to suit specific characteristics or behaviour of assets)\n",
    "- plain vanilla European options can be priced via a '?'\n",
    "\n",
    "Cons of Heston Model\n",
    "- complex to compute and calibrate (mathematically)"
   ]
  },
  {
   "cell_type": "code",
   "execution_count": null,
   "metadata": {
    "collapsed": true
   },
   "outputs": [],
   "source": [
    "Applying Fast Fourier Transform (FFT) to Heston Model\n",
    "\n",
    "-FFT makes it possible to calculate option prices for a range of strike prices.\n",
    "-The basic idea of the method is to develop an analytic expression for \n",
    " the Fourier transform of the option price and to get the price by Fourier inversion\n",
    "- In general F{f(x)}=E(exp(i()x))*f(x)dx=F()\n",
    "    Inverse  F^-1{F()}= 1/2pi*E(exp(-i())x)*F()d() = f(x)\n",
    " - F(x) = risk neutral density function of log returns\n",
    " - F() =  refers to the characteristic of the function f(x)\n",
    "    \n",
    "Example: In the money option - FFT of an option price\n",
    "- C_t(k)=exp(-rt)*E{exp(X_t)-exp(k)}*ft(X_t)dX_t where f_t(X) is risk neutral PDF of X\n",
    "- Since call price is not an integrable, we obtain a new square-integrable function C_t(k)=exp(ak)C_t(k) \n",
    "where a>0\n",
    "- Plugging the modification into the Fourier Transform Function FTF and solving by substitution, the option \n",
    "price will be given by\n",
    "  C_t(k)= exp(-ak)*C_t(k)\n",
    "  C_t(k)= exp(-ak)*1/2pi*E{exp(-i()x)}*F_ct()d()\n",
    "  C_T(k)=exp(ak)*1/pi*{exp(-i()x}*F_c()d()\n",
    "  Solving by substituion we get a new FFTF to price in the money option as follows:\n",
    "  F_ct = {exp(-rT)*F_ct()-(a+1)*i)}/{a^2+a-()^2 +i(2a+1)*()}\n",
    "\n",
    "    Pros\n",
    "- FFT is easy to use as compared to close form solutions (simplicity to use with risk neutral approach)\n",
    "- Provides option price for different levels of strike prices\n",
    "                           \n",
    "  Cons\n",
    "- does not provide additional information on the spartial localisation of features (can tell there is \n",
    "discontinuity but does not tell where)\n",
    "- The classical model can not be easily applied to nonlinear/non-stationary phenomenon\n",
    "                           \n",
    "The price must converge to BSM or Normal Model if volatility goes to 0 (being a constant) \n",
    "                           \n"
   ]
  }
 ],
 "metadata": {
  "kernelspec": {
   "display_name": "Python 3",
   "language": "python",
   "name": "python3"
  },
  "language_info": {
   "codemirror_mode": {
    "name": "ipython",
    "version": 3
   },
   "file_extension": ".py",
   "mimetype": "text/x-python",
   "name": "python",
   "nbconvert_exporter": "python",
   "pygments_lexer": "ipython3",
   "version": "3.6.0"
  }
 },
 "nbformat": 4,
 "nbformat_minor": 2
}
