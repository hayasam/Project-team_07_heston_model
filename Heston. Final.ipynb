{
 "cells": [
  {
   "cell_type": "code",
   "execution_count": 1,
   "metadata": {
    "collapsed": false
   },
   "outputs": [
    {
     "ename": "ModuleNotFoundError",
     "evalue": "No module named 'PyHeston'",
     "output_type": "error",
     "traceback": [
      "\u001b[0;31m---------------------------------------------------------------------------\u001b[0m",
      "\u001b[0;31mModuleNotFoundError\u001b[0m                       Traceback (most recent call last)",
      "\u001b[0;32m<ipython-input-1-61ba568dfc47>\u001b[0m in \u001b[0;36m<module>\u001b[0;34m()\u001b[0m\n\u001b[0;32m----> 1\u001b[0;31m \u001b[1;32mimport\u001b[0m \u001b[0mPyHeston\u001b[0m\u001b[1;33m\u001b[0m\u001b[0m\n\u001b[0m\u001b[1;32m      2\u001b[0m \u001b[1;32mimport\u001b[0m \u001b[0mnumpy\u001b[0m\u001b[1;33m\u001b[0m\u001b[0m\n\u001b[1;32m      3\u001b[0m \u001b[1;32mimport\u001b[0m \u001b[0mmatplotlib\u001b[0m\u001b[1;33m.\u001b[0m\u001b[0mpyplot\u001b[0m \u001b[1;32mas\u001b[0m \u001b[0mplt\u001b[0m\u001b[1;33m\u001b[0m\u001b[0m\n\u001b[1;32m      4\u001b[0m \u001b[1;32mimport\u001b[0m \u001b[0mitertools\u001b[0m\u001b[1;33m\u001b[0m\u001b[0m\n\u001b[1;32m      5\u001b[0m \u001b[1;32mfrom\u001b[0m \u001b[0mmpl_toolkits\u001b[0m\u001b[1;33m.\u001b[0m\u001b[0mmplot3d\u001b[0m \u001b[1;32mimport\u001b[0m \u001b[0mAxes3D\u001b[0m\u001b[1;33m\u001b[0m\u001b[0m\n",
      "\u001b[0;31mModuleNotFoundError\u001b[0m: No module named 'PyHeston'"
     ]
    }
   ],
   "source": [
    "import PyHeston\n",
    "import numpy\n",
    "import matplotlib.pyplot as plt\n",
    "import itertools\n",
    "from mpl_toolkits.mplot3d import Axes3D\n",
    "from matplotlib import cm\n",
    "help(PyHeston.HestonMixedGaussianCall)"
   ]
  },
  {
   "cell_type": "code",
   "execution_count": 4,
   "metadata": {
    "collapsed": false
   },
   "outputs": [
    {
     "ename": "IndentationError",
     "evalue": "unexpected indent (<ipython-input-4-dce2d2d547cf>, line 3)",
     "output_type": "error",
     "traceback": [
      "\u001b[0;36m  File \u001b[0;32m\"<ipython-input-4-dce2d2d547cf>\"\u001b[0;36m, line \u001b[0;32m3\u001b[0m\n\u001b[0;31m    Calculate heston model mixed gaussian call option price. The parameters follow the following sequence:\u001b[0m\n\u001b[0m    ^\u001b[0m\n\u001b[0;31mIndentationError\u001b[0m\u001b[0;31m:\u001b[0m unexpected indent\n"
     ]
    }
   ],
   "source": [
    "#Help on built-in function HestonMixedGaussianCall in module PyHeston:\n",
    "HestonMixedGaussianCall(...)\n",
    "    Calculate heston model mixed gaussian call option price. The parameters follow the following sequence:\n",
    "\n",
    "     S: Current underlying price\n",
    "     V0: Current instantaneous volatility square\n",
    "     K: Strike price\n",
    "     T: Time to expiry\n",
    "     r: Interest rate\n",
    "     Kappa: Mean reversion maganitude\n",
    "     Theta: Long term mean in Heston model\n",
    "     Eta: Vol of vol\n",
    "     Rho: Correlation of underlying stochastic term with vol\n",
    "\n",
    "     The Mixed Gaussian part has four parameters:\n",
    "     Up: average maganitude of up log jump\n",
    "     UpSigma: dispersion maganitude of up log jump\n",
    "     Down: average maganitude of down log jump\n",
    "     DownSigma: dispersion maganitude of down log jump\n",
    "    Stepsize: Numerical solution stepsize. Recommend 0.4"
   ]
  },
  {
   "cell_type": "code",
   "execution_count": 5,
   "metadata": {
    "collapsed": false
   },
   "outputs": [
    {
     "ename": "NameError",
     "evalue": "name 'numpy' is not defined",
     "output_type": "error",
     "traceback": [
      "\u001b[0;31m---------------------------------------------------------------------------\u001b[0m",
      "\u001b[0;31mNameError\u001b[0m                                 Traceback (most recent call last)",
      "\u001b[0;32m<ipython-input-5-a3d9ddf21858>\u001b[0m in \u001b[0;36m<module>\u001b[0;34m()\u001b[0m\n\u001b[1;32m     30\u001b[0m     )\n\u001b[1;32m     31\u001b[0m \u001b[1;33m\u001b[0m\u001b[0m\n\u001b[0;32m---> 32\u001b[0;31m \u001b[0mStrikes\u001b[0m \u001b[1;33m=\u001b[0m \u001b[0mnumpy\u001b[0m\u001b[1;33m.\u001b[0m\u001b[0marange\u001b[0m\u001b[1;33m(\u001b[0m\u001b[1;36m140\u001b[0m\u001b[1;33m,\u001b[0m \u001b[1;36m260\u001b[0m\u001b[1;33m,\u001b[0m \u001b[1;36m5\u001b[0m\u001b[1;33m)\u001b[0m\u001b[1;33m\u001b[0m\u001b[0m\n\u001b[0m\u001b[1;32m     33\u001b[0m \u001b[0mT\u001b[0m \u001b[1;33m=\u001b[0m \u001b[0mnumpy\u001b[0m\u001b[1;33m.\u001b[0m\u001b[0marange\u001b[0m\u001b[1;33m(\u001b[0m\u001b[1;36m0.001\u001b[0m\u001b[1;33m,\u001b[0m \u001b[1;36m0.1\u001b[0m\u001b[1;33m,\u001b[0m \u001b[1;36m0.001\u001b[0m\u001b[1;33m)\u001b[0m\u001b[1;33m\u001b[0m\u001b[0m\n\u001b[1;32m     34\u001b[0m \u001b[0mStrikes\u001b[0m\u001b[1;33m,\u001b[0m \u001b[0mT\u001b[0m \u001b[1;33m=\u001b[0m \u001b[0mnumpy\u001b[0m\u001b[1;33m.\u001b[0m\u001b[0mmeshgrid\u001b[0m\u001b[1;33m(\u001b[0m\u001b[0mStrikes\u001b[0m\u001b[1;33m,\u001b[0m \u001b[0mT\u001b[0m\u001b[1;33m)\u001b[0m\u001b[1;33m\u001b[0m\u001b[0m\n",
      "\u001b[0;31mNameError\u001b[0m: name 'numpy' is not defined"
     ]
    }
   ],
   "source": [
    "# Background parameters\n",
    "\n",
    "S = 200\n",
    "v=0.8\n",
    "r = 0.1\n",
    "dividend = 0\n",
    "Kappa = 1\n",
    "Theta = 0.4\n",
    "Eta =15\n",
    "Rho =-0.5\n",
    "Up = 0.1\n",
    "Down = -0.1\n",
    "UpSigma = 0.02\n",
    "DownSigma = 0.02\n",
    "StepSize = 0.4\n",
    "\n",
    "# Define a wrapper calling computation func\n",
    "\n",
    "def getHestonMixedGaussianCallIV(K, T):\n",
    "    return PyHeston.BSCallIV(\n",
    "        PyHeston.HestonMixedGaussianCall(\n",
    "            S, v,\n",
    "            K, T,\n",
    "            r,\n",
    "            Kappa, Theta, Eta, Rho,\n",
    "            Up, UpSigma, Down, DownSigma,\n",
    "            StepSize\n",
    "        ),\n",
    "        S, K, T, dividend, 0\n",
    "    )\n",
    "\n",
    "Strikes = numpy.arange(140, 260, 5)\n",
    "T = numpy.arange(0.001, 0.1, 0.001)\n",
    "Strikes, T = numpy.meshgrid(Strikes, T)\n",
    "IVsurface = numpy.zeros(Strikes.shape)\n",
    "for i in range(Strikes.shape[0]):\n",
    "    for j in range(Strikes.shape[1]):\n",
    "        IVsurface[i][j] = getHestonMixedGaussianCallIV(\n",
    "            Strikes[i][j], T[i][j]\n",
    "        )\n",
    "fig = plt.figure()\n",
    "ax = fig.add_subplot(111, projection='3d')\n",
    "surf = ax.plot_surface(\n",
    "    Strikes, T, IVsurface, rstride=1, cstride=1,\n",
    "    cmap=cm.coolwarm, linewidth=0, antialiased=False)\n",
    "ax.set_xlabel('Strike price')\n",
    "ax.set_ylabel('Time to expiry')\n",
    "ax.set_zlabel('Implied vol')\n",
    "plt.show()"
   ]
  },
  {
   "cell_type": "code",
   "execution_count": null,
   "metadata": {
    "collapsed": true
   },
   "outputs": [],
   "source": []
  }
 ],
 "metadata": {
  "kernelspec": {
   "display_name": "Python 3",
   "language": "python",
   "name": "python3"
  },
  "language_info": {
   "codemirror_mode": {
    "name": "ipython",
    "version": 3
   },
   "file_extension": ".py",
   "mimetype": "text/x-python",
   "name": "python",
   "nbconvert_exporter": "python",
   "pygments_lexer": "ipython3",
   "version": "3.6.0"
  }
 },
 "nbformat": 4,
 "nbformat_minor": 2
}
