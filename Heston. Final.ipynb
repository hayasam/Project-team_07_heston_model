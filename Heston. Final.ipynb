{
 "cells": [
  {
   "cell_type": "code",
   "execution_count": 1,
   "metadata": {
    "collapsed": false,
    "scrolled": true
   },
   "outputs": [],
   "source": [
    "##import PyHeston\n",
    "import numpy\n",
    "import matplotlib.pyplot as plt\n",
    "import itertools\n",
    "from mpl_toolkits.mplot3d import Axes3D\n",
    "from matplotlib import cm\n"
   ]
  },
  {
   "cell_type": "code",
   "execution_count": 10,
   "metadata": {
    "collapsed": false
   },
   "outputs": [
    {
     "ename": "SyntaxError",
     "evalue": "EOL while scanning string literal (<ipython-input-10-b4024fdb1b75>, line 22)",
     "output_type": "error",
     "traceback": [
      "\u001b[0;36m  File \u001b[0;32m\"<ipython-input-10-b4024fdb1b75>\"\u001b[0;36m, line \u001b[0;32m22\u001b[0m\n\u001b[0;31m    ''''\u001b[0m\n\u001b[0m        \n^\u001b[0m\n\u001b[0;31mSyntaxError\u001b[0m\u001b[0;31m:\u001b[0m EOL while scanning string literal\n"
     ]
    }
   ],
   "source": [
    "#Help on built-in function HestonMixedGaussianCall in module PyHeston:\n",
    "'''' class HestonMixedGaussianCall()\n",
    "    Calculate heston model mixed gaussian call option price. The parameters follow the following sequence:\n",
    "\n",
    "     S: Current underlying price\n",
    "     V0: Current instantaneous volatility square\n",
    "     K: Strike price\n",
    "     T: Time to expiry\n",
    "     r: Interest rate\n",
    "     Kappa: Mean reversion maganitude\n",
    "     Theta: Long term mean in Heston model\n",
    "     Eta: Vol of vol\n",
    "     Rho: Correlation of underlying stochastic term with vol\n",
    "\n",
    "     The Mixed Gaussian part has four parameters:\n",
    "     Up: average maganitude of up log jump\n",
    "     UpSigma: dispersion maganitude of up log jump\n",
    "     Down: average maganitude of down log jump\n",
    "     DownSigma: dispersion maganitude of down log jump\n",
    "    Stepsize: Numerical solution stepsize. Recommend 0.4\n",
    "    \n",
    "''''"
   ]
  },
  {
   "cell_type": "code",
   "execution_count": 10,
   "metadata": {
    "collapsed": false
   },
   "outputs": [
    {
     "ename": "NameError",
     "evalue": "name 'BSCallIV' is not defined",
     "output_type": "error",
     "traceback": [
      "\u001b[0;31m---------------------------------------------------------------------------\u001b[0m",
      "\u001b[0;31mNameError\u001b[0m                                 Traceback (most recent call last)",
      "\u001b[0;32m<ipython-input-10-ddf50169771e>\u001b[0m in \u001b[0;36m<module>\u001b[0;34m()\u001b[0m\n\u001b[1;32m     37\u001b[0m     \u001b[1;32mfor\u001b[0m \u001b[0mj\u001b[0m \u001b[1;32min\u001b[0m \u001b[0mrange\u001b[0m\u001b[1;33m(\u001b[0m\u001b[0mStrikes\u001b[0m\u001b[1;33m.\u001b[0m\u001b[0mshape\u001b[0m\u001b[1;33m[\u001b[0m\u001b[1;36m1\u001b[0m\u001b[1;33m]\u001b[0m\u001b[1;33m)\u001b[0m\u001b[1;33m:\u001b[0m\u001b[1;33m\u001b[0m\u001b[0m\n\u001b[1;32m     38\u001b[0m         IVsurface[i][j] = getHestonMixedGaussianCallIV(\n\u001b[0;32m---> 39\u001b[0;31m             \u001b[0mStrikes\u001b[0m\u001b[1;33m[\u001b[0m\u001b[0mi\u001b[0m\u001b[1;33m]\u001b[0m\u001b[1;33m[\u001b[0m\u001b[0mj\u001b[0m\u001b[1;33m]\u001b[0m\u001b[1;33m,\u001b[0m \u001b[0mT\u001b[0m\u001b[1;33m[\u001b[0m\u001b[0mi\u001b[0m\u001b[1;33m]\u001b[0m\u001b[1;33m[\u001b[0m\u001b[0mj\u001b[0m\u001b[1;33m]\u001b[0m\u001b[1;33m\u001b[0m\u001b[0m\n\u001b[0m\u001b[1;32m     40\u001b[0m         )\n\u001b[1;32m     41\u001b[0m \u001b[0mfig\u001b[0m \u001b[1;33m=\u001b[0m \u001b[0mplt\u001b[0m\u001b[1;33m.\u001b[0m\u001b[0mfigure\u001b[0m\u001b[1;33m(\u001b[0m\u001b[1;33m)\u001b[0m\u001b[1;33m\u001b[0m\u001b[0m\n",
      "\u001b[0;32m<ipython-input-10-ddf50169771e>\u001b[0m in \u001b[0;36mgetHestonMixedGaussianCallIV\u001b[0;34m(K, T)\u001b[0m\n\u001b[1;32m     18\u001b[0m \u001b[1;33m\u001b[0m\u001b[0m\n\u001b[1;32m     19\u001b[0m \u001b[1;32mdef\u001b[0m \u001b[0mgetHestonMixedGaussianCallIV\u001b[0m\u001b[1;33m(\u001b[0m\u001b[0mK\u001b[0m\u001b[1;33m,\u001b[0m \u001b[0mT\u001b[0m\u001b[1;33m)\u001b[0m\u001b[1;33m:\u001b[0m\u001b[1;33m\u001b[0m\u001b[0m\n\u001b[0;32m---> 20\u001b[0;31m     return BSCallIV(\n\u001b[0m\u001b[1;32m     21\u001b[0m         HestonMixedGaussianCall(\n\u001b[1;32m     22\u001b[0m             \u001b[0mS\u001b[0m\u001b[1;33m,\u001b[0m \u001b[0mv\u001b[0m\u001b[1;33m,\u001b[0m\u001b[1;33m\u001b[0m\u001b[0m\n",
      "\u001b[0;31mNameError\u001b[0m: name 'BSCallIV' is not defined"
     ]
    }
   ],
   "source": [
    "# Background parameters\n",
    "\n",
    "S = 100\n",
    "v=0.5\n",
    "r = 0.1\n",
    "dividend = 0\n",
    "Kappa = 1\n",
    "Theta = 0.5\n",
    "Eta =14\n",
    "Rho =-0.4\n",
    "Up = 0.15\n",
    "Down = -0.15\n",
    "UpSigma = 0.02\n",
    "DownSigma = 0.02\n",
    "StepSize = 0.4\n",
    "\n",
    "# Define a wrapper calling computation func\n",
    "\n",
    "def getHestonMixedGaussianCallIV(K, T):\n",
    "    return BSCallIV(\n",
    "        HestonMixedGaussianCall(\n",
    "            S, v,\n",
    "            K, T,\n",
    "            r,\n",
    "            Kappa, Theta, Eta, Rho,\n",
    "            Up, UpSigma, Down, DownSigma,\n",
    "            StepSize\n",
    "        ),\n",
    "        S, K, T, dividend, 0\n",
    "    )\n",
    "\n",
    "Strikes = numpy.arange(140, 260, 5)\n",
    "T = numpy.arange(0.001, 0.1, 0.001)\n",
    "Strikes, T = numpy.meshgrid(Strikes, T)\n",
    "IVsurface = numpy.zeros(Strikes.shape)\n",
    "for i in range(Strikes.shape[0]):\n",
    "    for j in range(Strikes.shape[1]):\n",
    "        IVsurface[i][j] = getHestonMixedGaussianCallIV(\n",
    "            Strikes[i][j], T[i][j]\n",
    "        )\n",
    "fig = plt.figure()\n",
    "ax = fig.add_subplot(111, projection='3d')\n",
    "surf = ax.plot_surface(\n",
    "    Strikes, T, IVsurface, rstride=1, cstride=1,\n",
    "    cmap=cm.coolwarm, linewidth=0, antialiased=False)\n",
    "ax.set_xlabel('Strike price')\n",
    "ax.set_ylabel('Time to expiry')\n",
    "ax.set_zlabel('Implied vol')\n",
    "plt.show()"
   ]
  },
  {
   "cell_type": "code",
   "execution_count": 2,
   "metadata": {
    "collapsed": false
   },
   "outputs": [
    {
     "ename": "SyntaxError",
     "evalue": "invalid syntax (<ipython-input-2-56e18f157e5c>, line 1)",
     "output_type": "error",
     "traceback": [
      "\u001b[0;36m  File \u001b[0;32m\"<ipython-input-2-56e18f157e5c>\"\u001b[0;36m, line \u001b[0;32m1\u001b[0m\n\u001b[0;31m    class FFT\u001b[0m\n\u001b[0m             ^\u001b[0m\n\u001b[0;31mSyntaxError\u001b[0m\u001b[0;31m:\u001b[0m invalid syntax\n"
     ]
    }
   ],
   "source": [
    "class FFT\n",
    "\n",
    "def fft_heston"
   ]
  },
  {
   "cell_type": "code",
   "execution_count": null,
   "metadata": {
    "collapsed": true
   },
   "outputs": [],
   "source": []
  },
  {
   "cell_type": "code",
   "execution_count": null,
   "metadata": {
    "collapsed": true
   },
   "outputs": [],
   "source": []
  }
 ],
 "metadata": {
  "kernelspec": {
   "display_name": "Python 3",
   "language": "python",
   "name": "python3"
  },
  "language_info": {
   "codemirror_mode": {
    "name": "ipython",
    "version": 3
   },
   "file_extension": ".py",
   "mimetype": "text/x-python",
   "name": "python",
   "nbconvert_exporter": "python",
   "pygments_lexer": "ipython3",
   "version": "3.6.0"
  }
 },
 "nbformat": 4,
 "nbformat_minor": 2
}
